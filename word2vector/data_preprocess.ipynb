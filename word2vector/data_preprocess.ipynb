{
 "cells": [
  {
   "cell_type": "code",
   "execution_count": 30,
   "metadata": {},
   "outputs": [],
   "source": [
    "import torch\n",
    "import torch.utils.data as data"
   ]
  },
  {
   "cell_type": "code",
   "execution_count": 77,
   "metadata": {},
   "outputs": [],
   "source": [
    "class Word2VecDataset(data.Dataset):\n",
    "    \"\"\"Make pair word dataset\n",
    "    \n",
    "    Skip Gram is default mode\n",
    "    if skip_gram = False, it will use CBOW mode\n",
    "    \"\"\"\n",
    "    def __init__(self, data: list, window_size: int, skip_gram: bool=True):\n",
    "        self.data = data\n",
    "        self.window_size = window_size\n",
    "        self.bag_size = window_size * 2 + 1\n",
    "        self.skip_gram = skip_gram\n",
    "        self.pair_word_data = []\n",
    "        self.word2idx = {}\n",
    "        self.idx2word = {}\n",
    "        self.word_prob = []\n",
    "        self.make_dict()\n",
    "        self.calculate_sampling_prob()\n",
    "        self.generate_pair_word()\n",
    "        \n",
    "    def generate_pair_word(self):\n",
    "        print(\"Generating pair word data...\")\n",
    "        for sentence in self.data:\n",
    "            words = sentence.split(\" \")\n",
    "            word_len = len(words)\n",
    "            for idx in range(word_len):\n",
    "                # get left and right side output word of skip word\n",
    "                lower_idx = (idx - self.window_size) if idx >= self.window_size else 0\n",
    "                upper_idx = (idx + self.window_size) if idx <= (word_len - 1) - self.window_size else (word_len - 1)\n",
    "                BOW = []\n",
    "                if idx - self.window_size < 0:\n",
    "                    pad_num = self.window_size - idx\n",
    "                    for i in range(pad_num):\n",
    "                        BOW.append(self.word2idx[\"<PAD>\"])\n",
    "                for offset in range((upper_idx - lower_idx) + 1):\n",
    "                    nearest_idx = lower_idx + offset\n",
    "                    if nearest_idx != idx:\n",
    "                        BOW.append(self.word2idx[words[nearest_idx]])\n",
    "                if idx + self.window_size > word_len - 1:\n",
    "                    pad_num = self.window_size + idx - (word_len - 1)\n",
    "                    for i in range(pad_num):\n",
    "                        BOW.append(self.word2idx[\"<PAD>\"])\n",
    "                if self.skip_gram: # use skip gram mode\n",
    "                    self.pair_word_data.append((self.word2idx[words[idx]], BOW))\n",
    "                else: # use CBOW mode\n",
    "                    self.pair_word_data.append((BOW, self.word2idx[words[idx]]))\n",
    "    \n",
    "    def make_dict(self):\n",
    "        print(\"Makeing dictionary...\")\n",
    "        self.word2idx[\"<PAD>\"] = len(self.word2idx)\n",
    "        self.idx2word[len(self.word2idx)] = \"<PAD>\"\n",
    "        self.word_prob.append(0)\n",
    "        for sentence in self.data:\n",
    "            words = sentence.split(\" \")\n",
    "            for word in words:\n",
    "                if word not in self.word2idx:\n",
    "                    word_idx = len(self.word2idx)\n",
    "                    self.word2idx[word] = word_idx\n",
    "                    self.idx2word[word_idx] = word\n",
    "                    self.word_prob.append(0)\n",
    "                self.word_prob[int(self.word2idx[word])] += 1\n",
    "                \n",
    "    def calculate_sampling_prob(self):\n",
    "        self.word_prob = [prob * 0.75 for prob in self.word_prob]\n",
    "        prob_sum = 0\n",
    "        for prob in self.word_prob:\n",
    "            prob_sum += prob\n",
    "        self.word_prob = [prob / prob_sum for prob in self.word_prob]\n",
    "        \n",
    "    def __getitem__(self, idx: int) -> list:\n",
    "        # pair_word_data: list[(list of words, word)]\n",
    "        return self.pair_word_data[idx]\n",
    "    \n",
    "    def __len__(self) -> int:\n",
    "        return len(self.pair_word_data)"
   ]
  },
  {
   "cell_type": "code",
   "execution_count": 81,
   "metadata": {},
   "outputs": [
    {
     "name": "stdout",
     "output_type": "stream",
     "text": [
      "Makeing dictionary...\n",
      "Generating pair word data...\n",
      "1310623\n",
      "(1, [0, 0, 2, 3])\n"
     ]
    }
   ],
   "source": [
    "\"\"\"\n",
    "%run utils.ipynb\n",
    "dataset = Word2VecDataset(train_set, 2, True)\n",
    "print(len(dataset))\n",
    "print(dataset[0])\n",
    "\"\"\""
   ]
  }
 ],
 "metadata": {
  "kernelspec": {
   "display_name": "Python 3",
   "language": "python",
   "name": "python3"
  },
  "language_info": {
   "codemirror_mode": {
    "name": "ipython",
    "version": 3
   },
   "file_extension": ".py",
   "mimetype": "text/x-python",
   "name": "python",
   "nbconvert_exporter": "python",
   "pygments_lexer": "ipython3",
   "version": "3.6.12"
  }
 },
 "nbformat": 4,
 "nbformat_minor": 4
}
