{
 "cells": [
  {
   "cell_type": "code",
   "execution_count": 1,
   "metadata": {},
   "outputs": [],
   "source": [
    "import csv\n",
    "import string\n",
    "import os"
   ]
  },
  {
   "cell_type": "code",
   "execution_count": 2,
   "metadata": {},
   "outputs": [],
   "source": [
    "def read_data(path_name: str) -> list:\n",
    "    \"\"\"read data from csv file\n",
    "    \n",
    "    There are three information in csv: title,abstract and classifications.\n",
    "    This function extract abstract and split it to sentences without punctuation.\n",
    "    \"\"\"\n",
    "    no_punc_sentences = []\n",
    "    if os.path.isfile(path_name):\n",
    "        with open(path_name, newline='') as train_csv:\n",
    "            print(\"Reading data...\")\n",
    "            train_set = csv.DictReader(train_csv)\n",
    "            abstract_set = [row[\"Abstract\"] for row in train_set] #extract all abstracts to list\n",
    "            for abstract in abstract_set:\n",
    "                sentences = abstract.split(\".\") \n",
    "                #for each sentence, we use space to replace punctuation\n",
    "                for sen in sentences: \n",
    "                    for char in sen:\n",
    "                        if char in string.punctuation:\n",
    "                            sen = sen.replace(char, \" \") \n",
    "                    no_punc_sentences.append(sen)\n",
    "    else:\n",
    "        print(\"File is not exist!\")\n",
    "    return no_punc_sentences"
   ]
  },
  {
   "cell_type": "code",
   "execution_count": 6,
   "metadata": {},
   "outputs": [
    {
     "data": {
      "text/plain": [
       "'\\ndef make_dict(sentences: list) -> (dict, dict):\\n    \\n    if len(sentences) > 0:\\n        word2idx = {}\\n        idx2word = {}\\n        print(\"Makeing dictionary...\")\\n        for sen in sentences:\\n                words = sen.split(\" \")\\n                for word in words:\\n                    if word not in word2idx:\\n                        word_idx = len(word2idx)\\n                        word2idx[word] = word_idx\\n                        idx2word[word_idx] = word\\n    else:\\n        print(\"dataset is empty!\")\\n    return word2idx, idx2word\\n'"
      ]
     },
     "execution_count": 6,
     "metadata": {},
     "output_type": "execute_result"
    }
   ],
   "source": [
    "\"\"\"\n",
    "def make_dict(sentences: list) -> (dict, dict):\n",
    "    \n",
    "    if len(sentences) > 0:\n",
    "        word2idx = {}\n",
    "        idx2word = {}\n",
    "        print(\"Makeing dictionary...\")\n",
    "        for sen in sentences:\n",
    "                words = sen.split(\" \")\n",
    "                for word in words:\n",
    "                    if word not in word2idx:\n",
    "                        word_idx = len(word2idx)\n",
    "                        word2idx[word] = word_idx\n",
    "                        idx2word[word_idx] = word\n",
    "    else:\n",
    "        print(\"dataset is empty!\")\n",
    "    return word2idx, idx2word\n",
    "\"\"\""
   ]
  },
  {
   "cell_type": "code",
   "execution_count": 7,
   "metadata": {},
   "outputs": [
    {
     "name": "stdout",
     "output_type": "stream",
     "text": [
      "Reading data...\n"
     ]
    }
   ],
   "source": [
    "train_set = read_data(\"./datasets/trainset.csv\")"
   ]
  }
 ],
 "metadata": {
  "kernelspec": {
   "display_name": "Python 3",
   "language": "python",
   "name": "python3"
  },
  "language_info": {
   "codemirror_mode": {
    "name": "ipython",
    "version": 3
   },
   "file_extension": ".py",
   "mimetype": "text/x-python",
   "name": "python",
   "nbconvert_exporter": "python",
   "pygments_lexer": "ipython3",
   "version": "3.6.12"
  }
 },
 "nbformat": 4,
 "nbformat_minor": 4
}
