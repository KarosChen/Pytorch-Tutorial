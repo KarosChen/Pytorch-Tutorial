{
 "cells": [
  {
   "cell_type": "code",
   "execution_count": 13,
   "metadata": {},
   "outputs": [],
   "source": [
    "import torch\n",
    "import torch.utils.data as data"
   ]
  },
  {
   "cell_type": "code",
   "execution_count": 23,
   "metadata": {},
   "outputs": [],
   "source": [
    "class Word2VecDataset(data.Dataset):\n",
    "    \"\"\"Make pair word dataset\n",
    "    \n",
    "    Skip Gram is default mode\n",
    "    if skip_gram = False, it will use CBOW mode\n",
    "    \"\"\"\n",
    "    def __init__(self, data: list, window_size: int, skip_gram: bool=True):\n",
    "        self.data = data\n",
    "        self.window_size = window_size\n",
    "        self.skip_gram = skip_gram\n",
    "        self.pair_word_data = []\n",
    "        self.generate_pair_word()\n",
    "        \n",
    "    def generate_pair_word(self):\n",
    "        print(\"Generating pair word data...\")\n",
    "        for sentence in self.data:\n",
    "            words = sentence.split(\" \")\n",
    "            word_len = len(words)\n",
    "            for idx in range(word_len):\n",
    "                # get left and right side output word of skip word\n",
    "                lower_idx = (idx - self.window_size) if idx >= self.window_size else 0\n",
    "                upper_idx = (idx + self.window_size) if idx <= (word_len - 1) - self.window_size else (word_len - 1)\n",
    "                BOW = []\n",
    "                for offset in range((upper_idx - lower_idx) + 1):\n",
    "                    nearest_idx = lower_idx + offset\n",
    "                    if nearest_idx != idx:\n",
    "                        BOW.append(words[nearest_idx])\n",
    "                if self.skip_gram: # use skip gram mode\n",
    "                    self.pair_word_data.append((words[idx], BOW))\n",
    "                else: # use CBOW mode\n",
    "                    self.pair_word_data.append((BOW, words[idx]))\n",
    "    \n",
    "    def __getitem__(self, idx: int) -> list:\n",
    "        # pair_word_data: list[(list of words, word)]\n",
    "        return self.pair_word_data[idx]\n",
    "    \n",
    "    def __len__(self) -> int:\n",
    "        return len(self.pair_word_data)"
   ]
  },
  {
   "cell_type": "code",
   "execution_count": 25,
   "metadata": {},
   "outputs": [
    {
     "name": "stdout",
     "output_type": "stream",
     "text": [
      "Reading data...\n",
      "Makeing dictionary...\n",
      "Generating pair word data...\n",
      "('paper', ['This', 'proposes', 'three'])\n"
     ]
    }
   ],
   "source": [
    "\"\"\"\n",
    "%run utils.ipynb\n",
    "dataset = Word2VecDataset(train_set, 2)\n",
    "len(dataset)\n",
    "print(dataset[1])\n",
    "\"\"\""
   ]
  }
 ],
 "metadata": {
  "kernelspec": {
   "display_name": "Python 3",
   "language": "python",
   "name": "python3"
  },
  "language_info": {
   "codemirror_mode": {
    "name": "ipython",
    "version": 3
   },
   "file_extension": ".py",
   "mimetype": "text/x-python",
   "name": "python",
   "nbconvert_exporter": "python",
   "pygments_lexer": "ipython3",
   "version": "3.6.12"
  }
 },
 "nbformat": 4,
 "nbformat_minor": 4
}
