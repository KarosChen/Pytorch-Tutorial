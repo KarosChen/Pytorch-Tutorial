{
 "cells": [
  {
   "cell_type": "code",
   "execution_count": 6,
   "metadata": {},
   "outputs": [],
   "source": [
    "import torch\n",
    "import torch.nn as nn\n",
    "import torch.nn.functional as F\n",
    "import torch.utils.data as data"
   ]
  },
  {
   "cell_type": "code",
   "execution_count": 7,
   "metadata": {},
   "outputs": [],
   "source": [
    "class Word2VecModel(nn.Module):\n",
    "    def __init__(self, vocab_size, embedding_dim, batch_size, bag_size, skip_gram=True):\n",
    "        super().__init__()\n",
    "        self.vocab_size    = vocab_size\n",
    "        self.embedding_dim = embedding_dim\n",
    "        self.batch_size    = batch_size\n",
    "        self.bag_size      = bag_size\n",
    "        self.skip_gram     = skip_gram\n",
    "        \n",
    "        self.embedding_layer = nn.Embedding(self.vocab_size, self.embedding_dim)\n",
    "        self.linear_layer    = nn.Linear(self.embedding_dim, self.vocab_size)\n",
    "        \n",
    "    def forward(self, inputs):\n",
    "        #inputs = torch.tensor(inputs)\n",
    "        if self.skip_gram:\n",
    "            #inputs size = [batch] (value is index)\n",
    "            embedding_vectors = self.embedding_layer(inputs)       # embedding_vectors size = [batch, embedding_dim]\n",
    "        else:\n",
    "            #inputs size = [batch, bag_size]\n",
    "            embedding_vectors = []\n",
    "            inputs = inputs.view(-1)                               # inputs size = [batch * bag_size]\n",
    "            embedding_vectors = self.embedding_layer(inputs)       # embedding_vectors size = [batch * bag_size, embedding_dim]\n",
    "            embedding_vectors = embedding_vectors.view(self.batch_size, -1, self.embedding_dim) #embedding_vectors size = [batch, bag_size, embedding_dim]\n",
    "            embedding_vectors = torch.div(torch.sum(embedding_vectors, 1), self.bag_size) # embedding_vectors size = [batch, embedding_dim]\n",
    "        vocab_vectors = self.linear_layer(embedding_vectors)       #vocab_vectors size = [batch, vocab_size]\n",
    "        preds = F.softmax(vocab_vectors, dim=1)\n",
    "        return preds\n",
    "    \n",
    "    def inference(self, inputs):\n",
    "        #inputs = torch.tensor(inputs) #input size = [batch, seq_len]\n",
    "        inputs = inputs.view(-1) # inputs size = [batch * seq_len]\n",
    "        embedding_vectors = self.embedding_layer(inputs) # embedding_vectors size = [batch * seq_len, embedding_dim]\n",
    "        embedding_vectors = embedding_vectors.view(self.batch_size, -1, self.embedding_dim) # preds size = [batch, seq_len, embedding_dim]\n",
    "        return embedding_vectors"
   ]
  }
 ],
 "metadata": {
  "kernelspec": {
   "display_name": "Python 3",
   "language": "python",
   "name": "python3"
  },
  "language_info": {
   "codemirror_mode": {
    "name": "ipython",
    "version": 3
   },
   "file_extension": ".py",
   "mimetype": "text/x-python",
   "name": "python",
   "nbconvert_exporter": "python",
   "pygments_lexer": "ipython3",
   "version": "3.6.12"
  }
 },
 "nbformat": 4,
 "nbformat_minor": 4
}
