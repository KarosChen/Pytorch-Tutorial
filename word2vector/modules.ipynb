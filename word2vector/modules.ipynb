{
 "cells": [
  {
   "cell_type": "code",
   "execution_count": 11,
   "metadata": {},
   "outputs": [],
   "source": [
    "import torch\n",
    "import torch.nn as nn\n",
    "import torch.nn.functional as F\n",
    "import torch.utils.data as data"
   ]
  },
  {
   "cell_type": "code",
   "execution_count": 12,
   "metadata": {},
   "outputs": [],
   "source": [
    "class Word2VecModel(nn.Module):\n",
    "    def __init__(self, vocab_size, embedding_dim, skip_gram=True):\n",
    "        super().__init__()\n",
    "        self.vocab_size = vocab_size\n",
    "        self.embedding_dim = embedding_dim\n",
    "        self.skip_gram = skip_gram\n",
    "\n",
    "        self.embedding_layer = nn.Embedding(self.vocab_size, self.embedding_dim)\n",
    "        self.linear_layer = nn.Linear(self.embedding_dim, self.vocab_size)\n",
    "    \n",
    "    def forward(self, inputs):\n",
    "        if self.skip_gram:\n",
    "            #inputs size = [batch] (value is index)\n",
    "            embedding_vectors = self.embedding_layer(inputs)       # embedding_vectors size = [batch, embedding_dim]\n",
    "        else:\n",
    "            #inputs size = [batch, bag_size]\n",
    "            embedding_vectors = []\n",
    "            for BOW in inputs:\n",
    "                BOW_vectors = self.embedding_layer(BOW)            # BOW_vectors size = [bag_size, embedding_dim]\n",
    "                BOW_vectors = torch.sum(BOW_vectors, 0) / len(BOW) # BOW_vectors size = [1, embedding_dim]\n",
    "                embedding_vectors.append(BOW_vectors)\n",
    "            embedding_vectors = torch.cat(embedding_vectors, 0)    #embedding_vectors size = [batch, embedding_dim]\n",
    "        vocab_vectors = self.linear_layer(embedding_vectors)       #vocab_vectors size = [batch, vocab_size]\n",
    "        preds = F.softmax(vocab_vectors)\n",
    "        return preds\n",
    "    \n",
    "    def inference(self, inputs):\n",
    "        #input size = [batch, seq_len]\n",
    "        embedding_vectors = []\n",
    "        for sequence in inputs:\n",
    "            batch_vectors = self.embedding_layer(sequence)\n",
    "            batch_vectors = batch_vectors.unsqueeze(0)\n",
    "            embedding_vectors.append(batch_vectors)\n",
    "        preds = torch.cat(embedding_vectors, 0)                    # preds size = [batch, seq_len, embedding_dim]\n",
    "        return preds"
   ]
  },
  {
   "cell_type": "code",
   "execution_count": 19,
   "metadata": {},
   "outputs": [
    {
     "name": "stdout",
     "output_type": "stream",
     "text": [
      "tensor([[0.1961, 0.0472, 0.6094, 0.1472],\n",
      "        [0.3274, 0.1281, 0.3497, 0.1948]], grad_fn=<SoftmaxBackward>)\n"
     ]
    },
    {
     "name": "stderr",
     "output_type": "stream",
     "text": [
      "D:\\anaconda3\\envs\\pytorch_gpu\\lib\\site-packages\\ipykernel_launcher.py:24: UserWarning: Implicit dimension choice for softmax has been deprecated. Change the call to include dim=X as an argument.\n"
     ]
    }
   ],
   "source": [
    "model = Word2VecModel(4, 3)\n",
    "test = torch.randint(0, 3, (2, ))\n",
    "preds = model(test)\n",
    "print(preds)"
   ]
  },
  {
   "cell_type": "code",
   "execution_count": 3,
   "metadata": {},
   "outputs": [
    {
     "name": "stdout",
     "output_type": "stream",
     "text": [
      "tensor([[[-0.7863, -0.4312, -1.2767],\n",
      "         [-0.6403,  0.7165,  1.9938],\n",
      "         [-0.2419,  0.4264, -0.1182]],\n",
      "\n",
      "        [[-0.5699, -0.1546,  0.5419],\n",
      "         [ 0.5353,  0.1165,  0.5651],\n",
      "         [ 0.6662,  0.3728, -0.5938]]])\n"
     ]
    }
   ],
   "source": [
    "a = torch.randn(2,3,3)\n",
    "print(a)"
   ]
  }
 ],
 "metadata": {
  "kernelspec": {
   "display_name": "Python 3",
   "language": "python",
   "name": "python3"
  },
  "language_info": {
   "codemirror_mode": {
    "name": "ipython",
    "version": 3
   },
   "file_extension": ".py",
   "mimetype": "text/x-python",
   "name": "python",
   "nbconvert_exporter": "python",
   "pygments_lexer": "ipython3",
   "version": "3.6.12"
  }
 },
 "nbformat": 4,
 "nbformat_minor": 4
}
