{
 "cells": [
  {
   "cell_type": "code",
   "execution_count": 11,
   "metadata": {},
   "outputs": [],
   "source": [
    "import torch.utils.data as data\n",
    "import torch.nn as nn"
   ]
  },
  {
   "cell_type": "code",
   "execution_count": 18,
   "metadata": {},
   "outputs": [
    {
     "name": "stdout",
     "output_type": "stream",
     "text": [
      "Makeing dictionary...\n",
      "Generating pair word data...\n",
      "1310623\n",
      "(1, [0, 0, 2, 3])\n",
      "Reading data...\n",
      "Makeing dictionary...\n",
      "Generating pair word data...\n",
      "cuda\n"
     ]
    }
   ],
   "source": [
    "def train_process(training_dataset, window_size):\n",
    "    device = torch.device(\"cuda\" if torch.cuda.is_available() else \"cpu\")\n",
    "    print(device)\n",
    "    training_loader = data.DataLoader(training_dataset, batch_size=32, shuffle=True)\n",
    "    model = Word2VecModel(len(training_dataset.word2idx), 256, 32, training_dataset.bag_size)\n",
    "    model = model.to(device)\n",
    "    model.train()\n",
    "    model.zero_grad()\n",
    "    optimizer = torch.optim.Adam(model.parameters(), lr=0.00001)\n",
    "    loss_function = nn.CrossEntropyLoss()\n",
    "    \n",
    "    #for data in training_loader:\n",
    "\n",
    "%run data_preprocess.ipynb\n",
    "%run utils.ipynb\n",
    "%run modules.ipynb\n",
    "window_size = 2\n",
    "training_set = read_data(\"./datasets/trainset.csv\")\n",
    "training_dataset= Word2VecDataset(training_set, window_size)\n",
    "train_process(training_dataset, window_size)"
   ]
  },
  {
   "cell_type": "code",
   "execution_count": null,
   "metadata": {},
   "outputs": [],
   "source": [
    "def main():\n",
    "    training_set = read_data(\"./datasets/trainset.csv\")\n",
    "    train_process(training_set)"
   ]
  }
 ],
 "metadata": {
  "kernelspec": {
   "display_name": "Python 3",
   "language": "python",
   "name": "python3"
  },
  "language_info": {
   "codemirror_mode": {
    "name": "ipython",
    "version": 3
   },
   "file_extension": ".py",
   "mimetype": "text/x-python",
   "name": "python",
   "nbconvert_exporter": "python",
   "pygments_lexer": "ipython3",
   "version": "3.6.12"
  }
 },
 "nbformat": 4,
 "nbformat_minor": 4
}
