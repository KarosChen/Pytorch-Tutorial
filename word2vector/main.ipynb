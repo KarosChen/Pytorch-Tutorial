{
 "cells": [
  {
   "cell_type": "code",
   "execution_count": 40,
   "metadata": {},
   "outputs": [],
   "source": [
    "import torch\n",
    "import torch.utils.data as data\n",
    "import torch.nn as nn\n",
    "import word2vec.data_preprocess as data_preprocess\n",
    "import word2vec.modules as modules\n",
    "import word2vec.utils as utils"
   ]
  },
  {
   "cell_type": "code",
   "execution_count": 41,
   "metadata": {},
   "outputs": [],
   "source": [
    "class Config():\n",
    "    \"\"\"This is config class that store all parameter about training model\"\"\"\n",
    "    def __init__(self, vocab_size, bag_size):\n",
    "        self.mode = True # True is skip gram mode\n",
    "        self.vocab_size = vocab_size\n",
    "        self.embedding_dim = 1024\n",
    "        self.batch_size = 512\n",
    "        self.bag_size = bag_size\n",
    "        \n",
    "        self.lr = 0.00001\n",
    "        self.epochs = 30\n",
    "        \n",
    "        self.save_path = \"./ckpt\""
   ]
  },
  {
   "cell_type": "code",
   "execution_count": 47,
   "metadata": {},
   "outputs": [],
   "source": [
    "def train_step(model: modules.Word2VecModel, training_loader: data.DataLoader, device: torch.device, config: Config) -> float:\n",
    "    \"\"\"Train model with steps \n",
    "    \n",
    "    Args:\n",
    "        model: the model will be trained\n",
    "        training_loader: the dataloader of training dataset\n",
    "        device: the hardware of training\n",
    "        config: the training config\n",
    "    \n",
    "    Returns:\n",
    "        return avg loss in steps\n",
    "    \"\"\"\n",
    "    model.train() # enter train mode to refresh gradient\n",
    "    model.zero_grad()\n",
    "    optimizer = torch.optim.Adam(model.parameters(), lr=config.lr)\n",
    "    loss_function = nn.CrossEntropyLoss(ignore_index=0)\n",
    "    total_loss = 0\n",
    "    avg_loss = 0\n",
    "    \n",
    "    for step, (inputs, targets) in enumerate(training_loader):\n",
    "        optimizer.zero_grad()\n",
    "        \n",
    "        inputs = inputs.to(device)\n",
    "        targets = inputs.to(device)\n",
    "        outputs = model(inputs)\n",
    "        loss = loss_function(outputs, targets)\n",
    "        \n",
    "        loss.backward()\n",
    "        optimizer.step()\n",
    "        \n",
    "        total_loss += loss.item()\n",
    "        avg_loss = total_loss / (step + 1)\n",
    "        print(\"\\r\", \"Train step[{}/{}] loss:{}]\".format(step + 1, len(training_loader), avg_loss), end=\"\")\n",
    "    return avg_loss"
   ]
  },
  {
   "cell_type": "code",
   "execution_count": 43,
   "metadata": {},
   "outputs": [],
   "source": [
    "def train(training_dataset, config):\n",
    "    \"\"\"The training process\"\"\"\n",
    "    device = torch.device(\"cuda\" if torch.cuda.is_available() else \"cpu\")\n",
    "    training_loader = data.DataLoader(training_dataset, batch_size=config.batch_size, shuffle=True)\n",
    "    \n",
    "    model = modules.Word2VecModel(config.vocab_size, config.embedding_dim, config.batch_size, config.bag_size, config.mode)\n",
    "    model = model.to(device)\n",
    "    \n",
    "    for epoch in range(config.epochs):\n",
    "        print(\"Epoch [{}/{}]\".format(epoch + 1, config.epochs))\n",
    "        epoch_avg_loss = train_step(model, training_loader, device, config)\n",
    "        save_model(model, config.save_path, epoch_avg_loss, epoch)"
   ]
  },
  {
   "cell_type": "code",
   "execution_count": 44,
   "metadata": {},
   "outputs": [],
   "source": [
    "def test():\n",
    "    \"\"\"The test process\"\"\"\n",
    "    window_size = 2\n",
    "    training_set = read_data(\"./datasets/trainset.csv\")\n",
    "    \n",
    "    training_dataset = Word2VecDataset(training_set, window_size, True)\n",
    "    config = Config(len(training_dataset.word2idx), training_dataset.bag_size)\n",
    "    model = Word2VecModel(config.vocab_size, config.embedding_dim, config.batch_size, config.bag_size, config.mode)\n",
    "    model = load_model(model, \"./module/model_29_0.095\")\n",
    "\n",
    "    #print(training_dataset.word2idx)\n",
    "    word_idx = 14\n",
    "    indices = find_nearest(word_idx, 8, model)\n",
    "    nearest_words = [training_dataset.idx2word[i.item()] for i in indices]\n",
    "    print(training_dataset.idx2word[word_idx])\n",
    "    print(nearest_words)"
   ]
  },
  {
   "cell_type": "code",
   "execution_count": 45,
   "metadata": {},
   "outputs": [],
   "source": [
    "def main():\n",
    "    \"\"\"The main function\"\"\"\n",
    "    window_size = 2\n",
    "    training_set = utils.read_data(\"./datasets/trainset.csv\")\n",
    "    \n",
    "    training_dataset = data_preprocess.Word2VecDataset(training_set, window_size, True)\n",
    "    config = Config(len(training_dataset.word2idx), training_dataset.bag_size)\n",
    "    train(training_dataset, config)"
   ]
  },
  {
   "cell_type": "code",
   "execution_count": null,
   "metadata": {},
   "outputs": [
    {
     "name": "stdout",
     "output_type": "stream",
     "text": [
      "Reading data...\n",
      "Makeing dictionary...\n",
      "Generating pair word data...\n",
      "Epoch [1/30]\n",
      " Train step[478/2560] loss:9.286265049020615]]"
     ]
    }
   ],
   "source": [
    "if __name__ == \"__main__\":\n",
    "    main()"
   ]
  }
 ],
 "metadata": {
  "kernelspec": {
   "display_name": "Python 3",
   "language": "python",
   "name": "python3"
  },
  "language_info": {
   "codemirror_mode": {
    "name": "ipython",
    "version": 3
   },
   "file_extension": ".py",
   "mimetype": "text/x-python",
   "name": "python",
   "nbconvert_exporter": "python",
   "pygments_lexer": "ipython3",
   "version": "3.6.12"
  }
 },
 "nbformat": 4,
 "nbformat_minor": 4
}
