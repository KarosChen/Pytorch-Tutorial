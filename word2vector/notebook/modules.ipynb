{
 "cells": [
  {
   "cell_type": "code",
   "execution_count": 6,
   "metadata": {},
   "outputs": [],
   "source": [
    "import torch\n",
    "import torch.nn as nn\n",
    "import torch.nn.functional as F\n",
    "import torch.utils.data as data"
   ]
  },
  {
   "cell_type": "code",
   "execution_count": 1,
   "metadata": {},
   "outputs": [
    {
     "ename": "NameError",
     "evalue": "name 'nn' is not defined",
     "output_type": "error",
     "traceback": [
      "\u001b[1;31m---------------------------------------------------------------------------\u001b[0m",
      "\u001b[1;31mNameError\u001b[0m                                 Traceback (most recent call last)",
      "\u001b[1;32m<ipython-input-1-7c8b2e01147e>\u001b[0m in \u001b[0;36m<module>\u001b[1;34m\u001b[0m\n\u001b[1;32m----> 1\u001b[1;33m \u001b[1;32mclass\u001b[0m \u001b[0mWord2VecModel\u001b[0m\u001b[1;33m(\u001b[0m\u001b[0mnn\u001b[0m\u001b[1;33m.\u001b[0m\u001b[0mModule\u001b[0m\u001b[1;33m)\u001b[0m\u001b[1;33m:\u001b[0m\u001b[1;33m\u001b[0m\u001b[1;33m\u001b[0m\u001b[0m\n\u001b[0m\u001b[0;32m      2\u001b[0m     \"\"\"This is a word2vector model\n\u001b[0;32m      3\u001b[0m \u001b[1;33m\u001b[0m\u001b[0m\n\u001b[0;32m      4\u001b[0m     \u001b[0mThis\u001b[0m \u001b[0mmodel\u001b[0m \u001b[0mcan\u001b[0m \u001b[0mproduce\u001b[0m \u001b[0membedding\u001b[0m \u001b[0mvector\u001b[0m \u001b[0mof\u001b[0m \u001b[0mthe\u001b[0m \u001b[0mword\u001b[0m\u001b[1;33m\u001b[0m\u001b[1;33m\u001b[0m\u001b[0m\n\u001b[0;32m      5\u001b[0m     \u001b[0mthat\u001b[0m \u001b[0mwere\u001b[0m \u001b[0mused\u001b[0m \u001b[0mto\u001b[0m \u001b[0mtrain\u001b[0m \u001b[0mmodel\u001b[0m\u001b[1;33m\u001b[0m\u001b[1;33m\u001b[0m\u001b[0m\n",
      "\u001b[1;31mNameError\u001b[0m: name 'nn' is not defined"
     ]
    }
   ],
   "source": [
    "class Word2VecModel(nn.Module):\n",
    "    \"\"\"This is a word2vector model\n",
    "    \n",
    "    This model can produce embedding vector of the word\n",
    "    that were used to train model\n",
    "    \n",
    "    Attributes:\n",
    "        vocab_size: the total number of vocab\n",
    "        embedding_dim: the dimension of embedding vecotor\n",
    "        batch_size: the number of size were used to train or inference\n",
    "        bag_size: the numbers of context vector\n",
    "        skip_gram: use skip_gram or CBOW mode\n",
    "    \"\"\"\n",
    "    def __init__(self, vocab_size: int, embedding_dim: int, batch_size: int, bag_size: int, skip_gram: bool=True):\n",
    "        super().__init__()\n",
    "        self.vocab_size = vocab_size\n",
    "        self.embedding_dim = embedding_dim\n",
    "        self.batch_size = batch_size\n",
    "        self.bag_size = bag_size\n",
    "        self.skip_gram = skip_gram\n",
    "        \n",
    "        self.embedding_layer = nn.Embedding(self.vocab_size, self.embedding_dim)\n",
    "        self.linear_layer = nn.Linear(self.embedding_dim, self.vocab_size)\n",
    "        \n",
    "    def forward(self, inputs: list[int]):\n",
    "        \"\"\"Train the model\n",
    "        \n",
    "        Args: \n",
    "            inputs: size = [batch, bag_size]: training data\n",
    "        \n",
    "        Returns:\n",
    "            return the prob distribution of vocab\n",
    "        \"\"\"\n",
    "        if self.skip_gram:\n",
    "            embedding_vectors = self.embedding_layer(inputs)       # embedding_vectors size = [batch, embedding_dim]\n",
    "        else:\n",
    "            embedding_vectors = []\n",
    "            inputs = inputs.view(-1)                               # inputs size = [batch * bag_size]\n",
    "            embedding_vectors = self.embedding_layer(inputs)       # embedding_vectors size = [batch * bag_size, embedding_dim]\n",
    "            embedding_vectors = embedding_vectors.view(self.batch_size, -1, self.embedding_dim) #embedding_vectors size = [batch, bag_size, embedding_dim]\n",
    "            embedding_vectors = torch.div(torch.sum(embedding_vectors, 1), self.bag_size) # embedding_vectors size = [batch, embedding_dim]\n",
    "        vocab_vectors = self.linear_layer(embedding_vectors)       #vocab_vectors size = [batch, vocab_size]\n",
    "        return vocab_vectors\n",
    "    \n",
    "    def inference(self, inputs: list[int]):\n",
    "        \"\"\"Inference the word to vector\n",
    "        \n",
    "        Args: \n",
    "            inputs: size = [batch * seq_len]: inferenced sequence\n",
    "        \n",
    "        Returns:\n",
    "            return the embedding vectors of each input words\n",
    "        \"\"\"\n",
    "        inputs = inputs.view(-1)\n",
    "        embedding_vectors = self.embedding_layer(inputs) # embedding_vectors size = [batch * seq_len, embedding_dim]\n",
    "        embedding_vectors = embedding_vectors.view(self.batch_size, -1, self.embedding_dim) # preds size = [batch, seq_len, embedding_dim]\n",
    "        return embedding_vectors"
   ]
  }
 ],
 "metadata": {
  "kernelspec": {
   "display_name": "Python 3",
   "language": "python",
   "name": "python3"
  },
  "language_info": {
   "codemirror_mode": {
    "name": "ipython",
    "version": 3
   },
   "file_extension": ".py",
   "mimetype": "text/x-python",
   "name": "python",
   "nbconvert_exporter": "python",
   "pygments_lexer": "ipython3",
   "version": "3.8.3"
  }
 },
 "nbformat": 4,
 "nbformat_minor": 4
}
