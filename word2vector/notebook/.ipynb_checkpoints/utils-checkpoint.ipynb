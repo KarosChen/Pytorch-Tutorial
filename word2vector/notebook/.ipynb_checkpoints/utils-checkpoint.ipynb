{
 "cells": [
  {
   "cell_type": "code",
   "execution_count": 1,
   "metadata": {},
   "outputs": [],
   "source": [
    "import csv\n",
    "import string\n",
    "import os\n",
    "import modules"
   ]
  },
  {
   "cell_type": "code",
   "execution_count": 2,
   "metadata": {},
   "outputs": [],
   "source": [
    "def read_data(path_name: str) -> list:\n",
    "    \"\"\"read data from csv file\n",
    "    \n",
    "    There are three information in csv: title,abstract and classifications.\n",
    "    This function extract abstract and split it to sentences without punctuation.\n",
    "    \n",
    "    Args:\n",
    "        path_name: the path of data that will be loaded\n",
    "    \n",
    "    Returns:\n",
    "        the sentences without punctuation\n",
    "    \"\"\"\n",
    "    no_punc_sentences = []\n",
    "    if os.path.isfile(path_name):\n",
    "        with open(path_name, newline='') as train_csv:\n",
    "            print(\"Reading data...\")\n",
    "            train_set = csv.DictReader(train_csv)\n",
    "            abstract_set = [row[\"Abstract\"] for row in train_set] # extract all abstracts to list\n",
    "            for abstract in abstract_set:\n",
    "                sentences = abstract.split(\".\") \n",
    "                for sen in sentences: \n",
    "                    for char in sen:\n",
    "                        if char in string.punctuation:\n",
    "                            sen = sen.replace(char, \" \") # for each sentence, we use space to replace punctuation \n",
    "                    no_punc_sentences.append(sen)\n",
    "    else:\n",
    "        print(\"File is not exist!\")\n",
    "    return no_punc_sentences"
   ]
  },
  {
   "cell_type": "code",
   "execution_count": null,
   "metadata": {},
   "outputs": [],
   "source": [
    "def save_model(model: modules.Word2VecModel, store_path: str, loss: float, epoch: int):\n",
    "    \"\"\"Save model\n",
    "    \n",
    "    Args:\n",
    "        model: the model will be saved\n",
    "        store_path: the store path\n",
    "        loss: the model loss\n",
    "        epoch: the model in which epoch\n",
    "    \"\"\"\n",
    "    torch.save(model.state_dict(), \"{}/model_{}_{:.3f}.ckpt\".format(store_path, epoch, loss))"
   ]
  },
  {
   "cell_type": "code",
   "execution_count": null,
   "metadata": {},
   "outputs": [],
   "source": [
    "def load_model(model: modules.Word2VecModel, load_path: str):\n",
    "    \"\"\"Load model\n",
    "    \n",
    "    Args: \n",
    "        model: the model will be saved\n",
    "        load_path: the load path\n",
    "    \n",
    "    Returns:\n",
    "        return model\n",
    "    \"\"\"\n",
    "    print(\"Load model from {}\".format(load_path))\n",
    "    model.load_state_dict(torch.load(\"{}.ckpt\".format(load_path)))\n",
    "    return model"
   ]
  },
  {
   "cell_type": "code",
   "execution_count": null,
   "metadata": {},
   "outputs": [],
   "source": [
    "def find_nearest(word: int, top_nearest: int, model: modules.Word2VecModel):\n",
    "    \"\"\"Find nearest word\n",
    "    \n",
    "    Args:\n",
    "        word: the index of word\n",
    "        top_nearest: the number of nearest word\n",
    "        model: model\n",
    "    \n",
    "    Returns:\n",
    "        return list of indices of nearest words\n",
    "    \"\"\"\n",
    "    parameters = model.embedding_layer.parameters()\n",
    "    for para in parameters:\n",
    "        para_data = para.data\n",
    "    parameters = torch.Tensor(para_data)\n",
    "    similarity_matrix = torch.mm(parameters, torch.transpose(parameters, 0, 1))\n",
    "    similarity_vector = similarity_matrix[word]\n",
    "    (values, indices) = torch.topk(similarity_vector, top_nearest)\n",
    "    return indices"
   ]
  }
 ],
 "metadata": {
  "kernelspec": {
   "display_name": "Python 3",
   "language": "python",
   "name": "python3"
  },
  "language_info": {
   "codemirror_mode": {
    "name": "ipython",
    "version": 3
   },
   "file_extension": ".py",
   "mimetype": "text/x-python",
   "name": "python",
   "nbconvert_exporter": "python",
   "pygments_lexer": "ipython3",
   "version": "3.8.3"
  }
 },
 "nbformat": 4,
 "nbformat_minor": 4
}
