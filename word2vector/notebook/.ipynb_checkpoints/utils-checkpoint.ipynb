{
 "cells": [
  {
   "cell_type": "code",
   "execution_count": 6,
   "metadata": {},
   "outputs": [
    {
     "ename": "ModuleNotFoundError",
     "evalue": "No module named 'modules'",
     "output_type": "error",
     "traceback": [
      "\u001b[1;31m---------------------------------------------------------------------------\u001b[0m",
      "\u001b[1;31mModuleNotFoundError\u001b[0m                       Traceback (most recent call last)",
      "\u001b[1;32m<ipython-input-6-9d9bf6c5145c>\u001b[0m in \u001b[0;36m<module>\u001b[1;34m\u001b[0m\n\u001b[0;32m      2\u001b[0m \u001b[1;32mimport\u001b[0m \u001b[0mstring\u001b[0m\u001b[1;33m\u001b[0m\u001b[1;33m\u001b[0m\u001b[0m\n\u001b[0;32m      3\u001b[0m \u001b[1;32mimport\u001b[0m \u001b[0mos\u001b[0m\u001b[1;33m\u001b[0m\u001b[1;33m\u001b[0m\u001b[0m\n\u001b[1;32m----> 4\u001b[1;33m \u001b[1;32mimport\u001b[0m \u001b[0mmodules\u001b[0m\u001b[1;33m\u001b[0m\u001b[1;33m\u001b[0m\u001b[0m\n\u001b[0m",
      "\u001b[1;31mModuleNotFoundError\u001b[0m: No module named 'modules'"
     ]
    }
   ],
   "source": [
    "import csv\n",
    "import string\n",
    "import os\n",
    "import modules"
   ]
  },
  {
   "cell_type": "code",
   "execution_count": 7,
   "metadata": {},
   "outputs": [],
   "source": [
    "def read_data(path_name: str) -> list:\n",
    "    \"\"\"read data from csv file\n",
    "    \n",
    "    There are three information in csv: title,abstract and classifications.\n",
    "    This function extract abstract and split it to sentences without punctuation.\n",
    "    \n",
    "    Args:\n",
    "        path_name: the path of data that will be loaded\n",
    "    \n",
    "    Returns:\n",
    "        the sentences without punctuation\n",
    "    \"\"\"\n",
    "    no_punc_sentences = []\n",
    "    if os.path.isfile(path_name):\n",
    "        with open(path_name, newline='') as train_csv:\n",
    "            print(\"Reading data...\")\n",
    "            train_set = csv.DictReader(train_csv)\n",
    "            abstract_set = [row[\"Abstract\"] for row in train_set] # extract all abstracts to list\n",
    "            for abstract in abstract_set:\n",
    "                sentences = abstract.split(\".\") \n",
    "                for sen in sentences: \n",
    "                    for char in sen:\n",
    "                        if char in string.punctuation:\n",
    "                            sen = sen.replace(char, \" \") # for each sentence, we use space to replace punctuation \n",
    "                    no_punc_sentences.append(sen)\n",
    "    else:\n",
    "        print(\"File is not exist!\")\n",
    "    return no_punc_sentences"
   ]
  },
  {
   "cell_type": "code",
   "execution_count": 8,
   "metadata": {},
   "outputs": [
    {
     "ename": "NameError",
     "evalue": "name 'modules' is not defined",
     "output_type": "error",
     "traceback": [
      "\u001b[1;31m---------------------------------------------------------------------------\u001b[0m",
      "\u001b[1;31mNameError\u001b[0m                                 Traceback (most recent call last)",
      "\u001b[1;32m<ipython-input-8-7f0c33b33c40>\u001b[0m in \u001b[0;36m<module>\u001b[1;34m\u001b[0m\n\u001b[1;32m----> 1\u001b[1;33m \u001b[1;32mdef\u001b[0m \u001b[0msave_model\u001b[0m\u001b[1;33m(\u001b[0m\u001b[0mmodel\u001b[0m\u001b[1;33m:\u001b[0m \u001b[0mmodules\u001b[0m\u001b[1;33m.\u001b[0m\u001b[0mWord2VecModel\u001b[0m\u001b[1;33m,\u001b[0m \u001b[0mstore_path\u001b[0m\u001b[1;33m:\u001b[0m \u001b[0mstr\u001b[0m\u001b[1;33m,\u001b[0m \u001b[0mloss\u001b[0m\u001b[1;33m:\u001b[0m \u001b[0mfloat\u001b[0m\u001b[1;33m,\u001b[0m \u001b[0mepoch\u001b[0m\u001b[1;33m:\u001b[0m \u001b[0mint\u001b[0m\u001b[1;33m)\u001b[0m\u001b[1;33m:\u001b[0m\u001b[1;33m\u001b[0m\u001b[1;33m\u001b[0m\u001b[0m\n\u001b[0m\u001b[0;32m      2\u001b[0m     \"\"\"Save model\n\u001b[0;32m      3\u001b[0m \u001b[1;33m\u001b[0m\u001b[0m\n\u001b[0;32m      4\u001b[0m     \u001b[0mArgs\u001b[0m\u001b[1;33m:\u001b[0m\u001b[1;33m\u001b[0m\u001b[1;33m\u001b[0m\u001b[0m\n\u001b[0;32m      5\u001b[0m         \u001b[0mmodel\u001b[0m\u001b[1;33m:\u001b[0m \u001b[0mthe\u001b[0m \u001b[0mmodel\u001b[0m \u001b[0mwill\u001b[0m \u001b[0mbe\u001b[0m \u001b[0msaved\u001b[0m\u001b[1;33m\u001b[0m\u001b[1;33m\u001b[0m\u001b[0m\n",
      "\u001b[1;31mNameError\u001b[0m: name 'modules' is not defined"
     ]
    }
   ],
   "source": [
    "def save_model(model: modules.Word2VecModel, store_path: str, loss: float, epoch: int):\n",
    "    \"\"\"Save model\n",
    "    \n",
    "    Args:\n",
    "        model: the model will be saved\n",
    "        store_path: the store path\n",
    "        loss: the model loss\n",
    "        epoch: the model in which epoch\n",
    "    \"\"\"\n",
    "    torch.save(model.state_dict(), \"{}/model_{}_{:.3f}.ckpt\".format(store_path, epoch, loss))"
   ]
  },
  {
   "cell_type": "code",
   "execution_count": null,
   "metadata": {},
   "outputs": [],
   "source": [
    "def load_model(model: modules.Word2VecModel, load_path: str):\n",
    "    \"\"\"Load model\n",
    "    \n",
    "    Args: \n",
    "        model: the model will be saved\n",
    "        load_path: the load path\n",
    "    \n",
    "    Returns:\n",
    "        return model\n",
    "    \"\"\"\n",
    "    print(\"Load model from {}\".format(load_path))\n",
    "    model.load_state_dict(torch.load(\"{}.ckpt\".format(load_path)))\n",
    "    return model"
   ]
  },
  {
   "cell_type": "code",
   "execution_count": null,
   "metadata": {},
   "outputs": [],
   "source": [
    "def find_nearest(word: int, top_nearest: int, model: modules.Word2VecModel):\n",
    "    \"\"\"Find nearest word\n",
    "    \n",
    "    Args:\n",
    "        word: the index of word\n",
    "        top_nearest: the number of nearest word\n",
    "        model: model\n",
    "    \n",
    "    Returns:\n",
    "        return list of indices of nearest words\n",
    "    \"\"\"\n",
    "    parameters = model.embedding_layer.parameters()\n",
    "    for para in parameters:\n",
    "        para_data = para.data\n",
    "    parameters = torch.Tensor(para_data)\n",
    "    similarity_matrix = torch.mm(parameters, torch.transpose(parameters, 0, 1))\n",
    "    similarity_vector = similarity_matrix[word]\n",
    "    (values, indices) = torch.topk(similarity_vector, top_nearest)\n",
    "    return indices"
   ]
  },
  {
   "cell_type": "code",
   "execution_count": 10,
   "metadata": {},
   "outputs": [
    {
     "name": "stderr",
     "output_type": "stream",
     "text": [
      "[NbConvertApp] Converting notebook utils.ipynb to script\n",
      "[NbConvertApp] Writing 2674 bytes to utils.py\n"
     ]
    }
   ],
   "source": [
    "!jupyter nbconvert --to script utils.ipynb"
   ]
  }
 ],
 "metadata": {
  "kernelspec": {
   "display_name": "Python 3",
   "language": "python",
   "name": "python3"
  },
  "language_info": {
   "codemirror_mode": {
    "name": "ipython",
    "version": 3
   },
   "file_extension": ".py",
   "mimetype": "text/x-python",
   "name": "python",
   "nbconvert_exporter": "python",
   "pygments_lexer": "ipython3",
   "version": "3.8.3"
  }
 },
 "nbformat": 4,
 "nbformat_minor": 4
}
